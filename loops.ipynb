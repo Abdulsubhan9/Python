{
  "nbformat": 4,
  "nbformat_minor": 0,
  "metadata": {
    "colab": {
      "provenance": []
    },
    "kernelspec": {
      "name": "python3",
      "display_name": "Python 3"
    },
    "language_info": {
      "name": "python"
    }
  },
  "cells": [
    {
      "cell_type": "markdown",
      "source": [
        " ***Assignment question***"
      ],
      "metadata": {
        "id": "DU1kC7oafWrB"
      }
    },
    {
      "cell_type": "markdown",
      "source": [
        "**1.What is iteration or looping in programming languages? Why is it useful?**"
      ],
      "metadata": {
        "id": "YKRFEAno3S1S"
      }
    },
    {
      "cell_type": "markdown",
      "source": [
        "***Iteration is a process of repeatedly executong a set of instructions.On the otherhand , Loop will continue exuting a instruction of code until a goal state is met. They are useful because they allow repitive tasks to be automated. it also reduces teh need for writing the redundant code.***"
      ],
      "metadata": {
        "id": "J0FUcKnU6gGh"
      }
    },
    {
      "cell_type": "markdown",
      "source": [
        "***2.What are the two ways for performing iteration in Python?***"
      ],
      "metadata": {
        "id": "YT6XMQLH65Sk"
      }
    },
    {
      "cell_type": "markdown",
      "source": [
        "***The two ways for performing iteration in Python are: ***\n",
        "\n",
        "1.   \"for\" loop\n",
        "2.   \"while\" loop\n",
        "\n"
      ],
      "metadata": {
        "id": "V_KNdrt-7KZq"
      }
    },
    {
      "cell_type": "markdown",
      "source": [
        "**3.What is the purpose of the while statement in Python?**"
      ],
      "metadata": {
        "id": "8EKjMYhq7i8k"
      }
    },
    {
      "cell_type": "markdown",
      "source": [
        "***The \"while\" statement in python is used to repeatedly execute a block of code until the give condition is true.***"
      ],
      "metadata": {
        "id": "G0iXpDW77n-v"
      }
    },
    {
      "cell_type": "markdown",
      "source": [
        "**4.What is the syntax of the white statement in Python? Give an example.**"
      ],
      "metadata": {
        "id": "KEWoomzi78E8"
      }
    },
    {
      "cell_type": "markdown",
      "source": [
        "***The syntax of \"while\" statement is that:      \n",
        "\n",
        "\n",
        "```\n",
        "initialize loop variable\n",
        "while (condition is true):\n",
        "    statement(s)\n",
        "    update loop variable\n",
        "statement(s)\n",
        "```\n",
        "\n",
        "***"
      ],
      "metadata": {
        "id": "_PUpwqMy8fxV"
      }
    },
    {
      "cell_type": "code",
      "source": [
        "i=0\n",
        "while i<10:\n",
        "  i=i+1\n",
        "  print(i)"
      ],
      "metadata": {
        "id": "w1zHn41S8-E8"
      },
      "execution_count": null,
      "outputs": []
    },
    {
      "cell_type": "markdown",
      "source": [
        "**5.Write a program to compute the sum of the numbers 1 to 100 using a while loop.**"
      ],
      "metadata": {
        "id": "w732_QyH9Xc6"
      }
    },
    {
      "cell_type": "code",
      "source": [
        "i=0\n",
        "sum=0\n",
        "while i<=100:\n",
        "  sum=sum+i\n",
        "  i=i+1\n",
        "print(f\"sum of numbers from 1 to 100:\",sum)\n"
      ],
      "metadata": {
        "colab": {
          "base_uri": "https://localhost:8080/"
        },
        "id": "lcCxwEah9efc",
        "outputId": "848d4392-ac1a-407a-af6e-b4e7b30431f4"
      },
      "execution_count": 21,
      "outputs": [
        {
          "output_type": "stream",
          "name": "stdout",
          "text": [
            "sum of numbers from 1 to 100: 5050\n"
          ]
        }
      ]
    },
    {
      "cell_type": "markdown",
      "source": [
        "**6.Repeat the above program for numbers up to 1000, 10000, and 100000. How long does it take each loop to complete?**"
      ],
      "metadata": {
        "id": "yRYzxpwP-EVP"
      }
    },
    {
      "cell_type": "code",
      "source": [
        "import timeit\n",
        "def sum_while(n):\n",
        "    total = 0\n",
        "    i = 1\n",
        "    while i <= n:\n",
        "        total += i\n",
        "        i += 1\n",
        "    return total\n",
        "time_100 = timeit.timeit(\"sum_while(100)\", setup=\"from __main__ import sum_while\", number=1000)\n",
        "time_1000 = timeit.timeit(\"sum_while(1000)\", setup=\"from __main__ import sum_while\", number=1000)\n",
        "time_10000 = timeit.timeit(\"sum_while(10000)\", setup=\"from __main__ import sum_while\", number=1000)\n",
        "time_100000 = timeit.timeit(\"sum_while(100000)\", setup=\"from __main__ import sum_while\", number=1000)\n",
        "print(f\"Sum from 1 to 100: {sum_while(100)}, Time: {time_100} seconds\")\n",
        "print(f\"Sum from 1 to 1000: {sum_while(1000)}, Time: {time_1000} seconds\")\n",
        "print(f\"Sum from 1 to 10000: {sum_while(10000)}, Time: {time_10000} seconds\")\n",
        "print(f\"Sum from 1 to 100000: {sum_while(100000)}, Time: {time_100000} seconds\")"
      ],
      "metadata": {
        "colab": {
          "base_uri": "https://localhost:8080/"
        },
        "id": "EZ-RISKj-Sec",
        "outputId": "2ea4a915-84cd-4719-d729-1c25507384b3"
      },
      "execution_count": 20,
      "outputs": [
        {
          "output_type": "stream",
          "name": "stdout",
          "text": [
            "Sum from 1 to 100: 5050, Time: 0.014004640000166546 seconds\n",
            "Sum from 1 to 1000: 500500, Time: 0.1130872509997971 seconds\n",
            "Sum from 1 to 10000: 50005000, Time: 1.3537701449999986 seconds\n",
            "Sum from 1 to 100000: 5000050000, Time: 13.82299272299997 seconds\n"
          ]
        }
      ]
    },
    {
      "cell_type": "markdown",
      "source": [
        "**7.What is an infinite loop?**"
      ],
      "metadata": {
        "id": "UmMxKX2C_UCj"
      }
    },
    {
      "cell_type": "markdown",
      "source": [
        "***The infinite loop runs a block of code for an unspecified number of times***"
      ],
      "metadata": {
        "id": "nIhCWTfu_Y-s"
      }
    },
    {
      "cell_type": "markdown",
      "source": [
        "**8.What causes a program to enter an infinite loop?t**"
      ],
      "metadata": {
        "id": "Fbi-GGVp_qLy"
      }
    },
    {
      "cell_type": "markdown",
      "source": [
        "***A program enters in infinite loop when:***\n",
        "\n",
        "1.   The loop running condition is never true.\n",
        "2.   The loop condition is always true.\n",
        "\n"
      ],
      "metadata": {
        "id": "_kKlmRNoAcDs"
      }
    },
    {
      "cell_type": "markdown",
      "source": [
        "******"
      ],
      "metadata": {
        "id": "hKQEsBG8_vdu"
      }
    },
    {
      "cell_type": "code",
      "source": [
        "i=1\n",
        "while i <= 7:\n",
        "\tprint (\"still looping\")"
      ],
      "metadata": {
        "id": "1LlpBFbxANxm"
      },
      "execution_count": null,
      "outputs": []
    },
    {
      "cell_type": "markdown",
      "source": [
        "**9.How do you interrupt an infinite loop within Jupyter?**"
      ],
      "metadata": {
        "id": "Csw7Yu8ToqXL"
      }
    },
    {
      "cell_type": "markdown",
      "source": [
        "***You can interrupt an infinite loop in jupyter by pressing the stop button in the toolbar or by pressing 'Ctrl + C ' in the terminal if running in a notebook server.***"
      ],
      "metadata": {
        "id": "SkiGax10o5Yl"
      }
    },
    {
      "cell_type": "markdown",
      "source": [
        "**10.What is the purpose of the break statement in Python?**"
      ],
      "metadata": {
        "id": "zCEwRZnopfUa"
      }
    },
    {
      "cell_type": "markdown",
      "source": [
        "***The purpose of 'break' statement in python is that it permanently exits from the code when the certain condition is met. ***"
      ],
      "metadata": {
        "id": "XVIvk0tspv2M"
      }
    },
    {
      "cell_type": "markdown",
      "source": [
        "**11.Give an example of using a break statement within a while loop.**"
      ],
      "metadata": {
        "id": "J27K-5eVqvG9"
      }
    },
    {
      "cell_type": "code",
      "source": [
        "i=0\n",
        "while i<10:\n",
        "  i=i+1\n",
        "  if i==4:\n",
        "    break\n",
        "  print(i)\n",
        ""
      ],
      "metadata": {
        "colab": {
          "base_uri": "https://localhost:8080/"
        },
        "id": "PW2yhWz0q581",
        "outputId": "76d9095a-0202-4a64-87c3-12a488df328c"
      },
      "execution_count": 8,
      "outputs": [
        {
          "output_type": "stream",
          "name": "stdout",
          "text": [
            "1\n",
            "2\n",
            "3\n"
          ]
        }
      ]
    },
    {
      "cell_type": "markdown",
      "source": [
        "**12.What is the purpose of the continue statement in Python?**"
      ],
      "metadata": {
        "id": "y-FPuegJuLfk"
      }
    },
    {
      "cell_type": "markdown",
      "source": [
        "***The purpose of 'continue' statement in python is that it is used to skip the rest of the code and move to the next iteration .( end the current iteration in a for loop or a while loop, and continues to the next iteration.)***"
      ],
      "metadata": {
        "id": "9yG7rxNLuRWK"
      }
    },
    {
      "cell_type": "markdown",
      "source": [],
      "metadata": {
        "id": "qj3WQ2fPuPr7"
      }
    },
    {
      "cell_type": "markdown",
      "source": [
        "**13.Give an example of using a 'continue' statement within a while loop.**"
      ],
      "metadata": {
        "id": "WfDtRUdErsej"
      }
    },
    {
      "cell_type": "code",
      "source": [
        "i=0\n",
        "while i<10:\n",
        "  i=i+1\n",
        "  if i==4:\n",
        "    continue\n",
        "  print(i)"
      ],
      "metadata": {
        "id": "Z_dL1XOOrxb-"
      },
      "execution_count": null,
      "outputs": []
    },
    {
      "cell_type": "markdown",
      "source": [
        "**14.What is logging? How is it useful?**"
      ],
      "metadata": {
        "id": "n1RmlnkouHML"
      }
    },
    {
      "cell_type": "markdown",
      "source": [
        "***Logging is a module that allows you to track events that occur while your program is running. You can use logging to record information about errors, warnings, and other events that occur during program execution. It is useful for debugging , troubleshoot and monitoring your program.  ***"
      ],
      "metadata": {
        "id": "KX_wtwh_vZJR"
      }
    },
    {
      "cell_type": "markdown",
      "source": [
        "**15.What is the purpose of \\'for' statement do in Python?**"
      ],
      "metadata": {
        "id": "Spa7Ui76fz-t"
      }
    },
    {
      "cell_type": "markdown",
      "source": [
        "***A 'for' statement in python is used to repeatedly execute a group of statements as long as the codition is satisfied.***"
      ],
      "metadata": {
        "id": "kuhKjRV-gBjM"
      }
    },
    {
      "cell_type": "markdown",
      "source": [
        "**16. What is the syntax of `for` loops? Give an example.**"
      ],
      "metadata": {
        "id": "2lCRciXIg6qe"
      }
    },
    {
      "cell_type": "markdown",
      "source": [
        "Syntax:"
      ],
      "metadata": {
        "id": "xEj3YpdShdlh"
      }
    },
    {
      "cell_type": "code",
      "source": [
        "for i in range(10):\n",
        "  print(i)"
      ],
      "metadata": {
        "id": "n7NExRurfVws"
      },
      "execution_count": null,
      "outputs": []
    },
    {
      "cell_type": "markdown",
      "source": [
        "**17.How are for loops and while loops different?**"
      ],
      "metadata": {
        "id": "EOdIX4AkgXVb"
      }
    },
    {
      "cell_type": "markdown",
      "source": [
        "   Diff b/w 'for' and 'while' loop:         \n",
        " *1.'for' loop in python repeats executing a code block from a sequence to a certain number of times.\n",
        "2. 'while' loop in python repeats executing a code block till the condition is true which is not certain.*"
      ],
      "metadata": {
        "id": "Lu25UeMNiYad"
      }
    },
    {
      "cell_type": "markdown",
      "source": [
        "**18.How do you loop over a string? Give an example.**"
      ],
      "metadata": {
        "id": "hJe3i6TCmFHg"
      }
    },
    {
      "cell_type": "code",
      "execution_count": null,
      "metadata": {
        "collapsed": true,
        "id": "5MgKk3tVfPyo"
      },
      "outputs": [],
      "source": [
        "text=\"python is easy\"\n",
        "for i in text:\n",
        "  print(i)"
      ]
    },
    {
      "cell_type": "markdown",
      "source": [
        "**19.How do you loop over a list? Give an example.**"
      ],
      "metadata": {
        "id": "iHG0ROyjnQhF"
      }
    },
    {
      "cell_type": "code",
      "source": [
        "list=[1,2,3,4,5]\n",
        "for i in list:\n",
        "  print(i)"
      ],
      "metadata": {
        "id": "5XPvjQTunXsl"
      },
      "execution_count": null,
      "outputs": []
    },
    {
      "cell_type": "markdown",
      "source": [
        "**20.How do you loop over a tuple? Give an example.**"
      ],
      "metadata": {
        "id": "5PJ7swh_njA-"
      }
    },
    {
      "cell_type": "code",
      "source": [
        "tuple=(\"gaming\",\"is\",\"profession\")\n",
        "for i in tuple:\n",
        "  print(i)"
      ],
      "metadata": {
        "id": "nGJ_DJcsnxc9"
      },
      "execution_count": null,
      "outputs": []
    },
    {
      "cell_type": "markdown",
      "source": [
        "**21.How do you loop over a dictionary? Give an example.**"
      ],
      "metadata": {
        "id": "-CjEkbBYoqzP"
      }
    },
    {
      "cell_type": "code",
      "source": [
        "dict={\"name\":\"Abdul Subhan\",\"Hobby\":\"Gaming\"}\n",
        "for name,information in dict.items():\n",
        "  print(f\"{name}:{information}\")\n"
      ],
      "metadata": {
        "id": "tXat5dCuow7O"
      },
      "execution_count": null,
      "outputs": []
    },
    {
      "cell_type": "markdown",
      "source": [
        "**22.What is the purpose of the range statement? Give an example.**"
      ],
      "metadata": {
        "id": "FlUbk3wjqmr3"
      }
    },
    {
      "cell_type": "markdown",
      "source": [
        "***The purpose of range statement is used to create a list containing a sequence from the given value to a exicting value.                            \n",
        "Example:***"
      ],
      "metadata": {
        "id": "_ljjSOFu45N7"
      }
    },
    {
      "cell_type": "code",
      "source": [
        "for num in range (0,10):\n",
        "  print(num)\n"
      ],
      "metadata": {
        "id": "xLfo352rqJ3U"
      },
      "execution_count": null,
      "outputs": []
    },
    {
      "cell_type": "markdown",
      "source": [
        "**23.What is the purpose of the enumerate statement? Give an example.**"
      ],
      "metadata": {
        "id": "ZYVVQev76Prr"
      }
    },
    {
      "cell_type": "markdown",
      "source": [
        "***The purpose of enumerate statement is that it adds a counter to an iterable.***"
      ],
      "metadata": {
        "id": "r8-BfDh16WBf"
      }
    },
    {
      "cell_type": "code",
      "source": [
        "favrt_game=[\"TLOU\",\"COD\",\"FIFA\"]\n",
        "for i,game in enumerate(favrt_game):\n",
        "  print(i,game)"
      ],
      "metadata": {
        "id": "Z6yo7B356aFc"
      },
      "execution_count": null,
      "outputs": []
    },
    {
      "cell_type": "markdown",
      "source": [
        "**24. How are the `break`, `continue`, and `pass` statements used in for loops? Give examples..**"
      ],
      "metadata": {
        "id": "ANn0kjOY8va1"
      }
    },
    {
      "cell_type": "markdown",
      "source": [
        "***Break statement in for loop***"
      ],
      "metadata": {
        "id": "b414CIfd87n4"
      }
    },
    {
      "cell_type": "code",
      "source": [
        "num=\"12345\"\n",
        "for i in num:\n",
        "  if i==\"3\":\n",
        "    break\n",
        "  print(i)"
      ],
      "metadata": {
        "colab": {
          "base_uri": "https://localhost:8080/"
        },
        "id": "NIpXxCi_9D2s",
        "outputId": "648b8d9b-41d2-4af6-9010-ce9b1bf7c7de"
      },
      "execution_count": 7,
      "outputs": [
        {
          "output_type": "stream",
          "name": "stdout",
          "text": [
            "1\n",
            "2\n"
          ]
        }
      ]
    },
    {
      "cell_type": "markdown",
      "source": [
        "***Continue statement in for loop***"
      ],
      "metadata": {
        "id": "Xf7AWVuB9jCV"
      }
    },
    {
      "cell_type": "code",
      "source": [
        "for i in range(30):\n",
        "  if i % 3 == 0:\n",
        "    continue\n",
        "  print(i)"
      ],
      "metadata": {
        "id": "zOE4pINj9pmr"
      },
      "execution_count": null,
      "outputs": []
    },
    {
      "cell_type": "markdown",
      "source": [
        "***Pass statement in for loop          \n",
        "  \"act as placeholder\"***"
      ],
      "metadata": {
        "id": "Eatf3JhJ-1L_"
      }
    },
    {
      "cell_type": "code",
      "source": [
        "for i in range(10):\n",
        "    if i > 5:\n",
        "        pass\n",
        "    else:\n",
        "        print(i)\n"
      ],
      "metadata": {
        "colab": {
          "base_uri": "https://localhost:8080/"
        },
        "id": "G49G3buX-6D_",
        "outputId": "573a324e-bb70-4907-9d44-79325cabddcd"
      },
      "execution_count": 18,
      "outputs": [
        {
          "output_type": "stream",
          "name": "stdout",
          "text": [
            "0\n",
            "1\n",
            "2\n",
            "3\n",
            "4\n",
            "5\n"
          ]
        }
      ]
    },
    {
      "cell_type": "markdown",
      "source": [
        "**25.Can loops be nested within other loops? How is nesting useful?**"
      ],
      "metadata": {
        "id": "tzWfZef-_ZP3"
      }
    },
    {
      "cell_type": "markdown",
      "source": [
        "***Yes,you can put a loop inside another loop. This is useful for solving complex problems. ***"
      ],
      "metadata": {
        "id": "em2suAiq_fPU"
      }
    },
    {
      "cell_type": "markdown",
      "source": [
        "**26.Give an example of a for loop nested within another for loop.**"
      ],
      "metadata": {
        "id": "afE-AqlE_u4i"
      }
    },
    {
      "cell_type": "code",
      "source": [
        "for i in range(5):\n",
        "  for j in range(5):\n",
        "    print(f\"i={i},j={j}\")"
      ],
      "metadata": {
        "id": "8IJ3Yz68_2tt"
      },
      "execution_count": null,
      "outputs": []
    },
    {
      "cell_type": "markdown",
      "source": [
        "**27.Give an example of a while loop nested within another while loop.**"
      ],
      "metadata": {
        "id": "B-ZREBWB02PW"
      }
    },
    {
      "cell_type": "code",
      "source": [
        "num=0\n",
        "while num<10:\n",
        "  num=num+1\n",
        "  sum=0\n",
        "  while sum<10:\n",
        "    sum+=1\n",
        "    print(f\"num={num} , sum={sum}\")"
      ],
      "metadata": {
        "id": "ZB0-Ivad2ExX"
      },
      "execution_count": null,
      "outputs": []
    },
    {
      "cell_type": "markdown",
      "source": [
        "**28.Give an example of a for loop nested within a while loop.**"
      ],
      "metadata": {
        "id": "6_q6KTsmvkC2"
      }
    },
    {
      "cell_type": "code",
      "source": [
        "i=0\n",
        "while i<5:\n",
        "  i=i+1\n",
        "  for j in range(5):\n",
        "    print(f\"i={i},j={j}\")"
      ],
      "metadata": {
        "id": "NQaznxoNvogu"
      },
      "execution_count": null,
      "outputs": []
    },
    {
      "cell_type": "markdown",
      "source": [
        "**29.Give an example of a while loop nested within a for loop.**"
      ],
      "metadata": {
        "id": "LOFFCr3Yv5zJ"
      }
    },
    {
      "cell_type": "code",
      "source": [
        "for i in range(5):\n",
        "  j=0\n",
        "  while j<5:\n",
        "    j=j+1\n",
        "    print(f\"i={i},j={j}\")\n",
        ""
      ],
      "metadata": {
        "id": "JFsj3wxVv9qz"
      },
      "execution_count": null,
      "outputs": []
    },
    {
      "cell_type": "markdown",
      "source": [
        "**30.Give a detailed comparison between map() and list comprehension, which is better in which scenario. Use timeit to time different codes**"
      ],
      "metadata": {
        "id": "MbvJ-TCU1DlF"
      }
    },
    {
      "cell_type": "markdown",
      "source": [
        "***Def:map() is a built-in Python function that applies a given function to all items in an input list (or any iterable) and returns a map object (which is an iterator).***"
      ],
      "metadata": {
        "id": "qC-78jq_1R5H"
      }
    },
    {
      "cell_type": "code",
      "source": [
        "def sum(x):\n",
        "  return x**2\n",
        "\n",
        "num=[1,2,3,4,5]\n",
        "print(list(map(sum,num)))\n",
        ""
      ],
      "metadata": {
        "colab": {
          "base_uri": "https://localhost:8080/"
        },
        "id": "xD6hDq371nAk",
        "outputId": "77ce7578-aaae-4020-f08c-dbc218526493"
      },
      "execution_count": 10,
      "outputs": [
        {
          "output_type": "stream",
          "name": "stdout",
          "text": [
            "[1, 4, 9, 16, 25]\n"
          ]
        }
      ]
    },
    {
      "cell_type": "markdown",
      "source": [
        "******"
      ],
      "metadata": {
        "id": "WDs2p4Lr1Izu"
      }
    },
    {
      "cell_type": "markdown",
      "source": [
        "***Def:List comprehensions provide a concise way to create lists. They consist of brackets containing an expression followed by a for clause, and optionally if clauses.***"
      ],
      "metadata": {
        "id": "h0rz6Sx52Paf"
      }
    },
    {
      "cell_type": "code",
      "source": [
        "num=[1,2,3,4,5]\n",
        "print([i**2 for i in num])"
      ],
      "metadata": {
        "colab": {
          "base_uri": "https://localhost:8080/"
        },
        "id": "X6bbU6jI2UIF",
        "outputId": "f496981d-dff5-4b39-d32f-fca43c236ba4"
      },
      "execution_count": 11,
      "outputs": [
        {
          "output_type": "stream",
          "name": "stdout",
          "text": [
            "[1, 4, 9, 16, 25]\n"
          ]
        }
      ]
    },
    {
      "cell_type": "markdown",
      "source": [
        "**Comparison:\n",
        "1.List comprehension returns a list, whereas the map function returns an object of Iterable.                       \n",
        "2.List comprehension execution is faster than that of map function when the formula expression is huge and    complex.                                 3.Map function is faster than list comprehension when the formula is already defined as a function earlier**"
      ],
      "metadata": {
        "id": "ndQcA0PK2awv"
      }
    }
  ]
}