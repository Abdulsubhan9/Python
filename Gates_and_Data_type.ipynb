{
  "cells": [
    {
      "cell_type": "markdown",
      "metadata": {
        "id": "pE23WUBk9JAt"
      },
      "source": [
        "*AND GATE TABLE*"
      ]
    },
    {
      "cell_type": "code",
      "execution_count": null,
      "metadata": {
        "colab": {
          "base_uri": "https://localhost:8080/"
        },
        "id": "4yVyx_mhLvwR",
        "outputId": "65dd299a-fa38-41a6-e130-93d2b4ffc6ad"
      },
      "outputs": [
        {
          "name": "stdout",
          "output_type": "stream",
          "text": [
            "A    B    AND  \n",
            "0    0    0    \n",
            "0    1    0    \n",
            "1    0    0    \n",
            "1    1    1    \n"
          ]
        }
      ],
      "source": [
        "\n",
        "inputs = [(0, 0), (0, 1), (1, 0), (1, 1)]\n",
        "\n",
        "\n",
        "print(f\"{'A':<5}{'B':<5}{'AND':<5}\")\n",
        "\n",
        "\n",
        "for a, b in inputs:\n",
        "\n",
        "    and_gateresult = a & b\n",
        "\n",
        "\n",
        "    print(f\"{a:<5}{b:<5}{and_gateresult:<5}\")\n"
      ]
    },
    {
      "cell_type": "markdown",
      "metadata": {
        "id": "mZGcRk7DEfnI"
      },
      "source": [
        "**OR  GATE TABLE **"
      ]
    },
    {
      "cell_type": "code",
      "execution_count": null,
      "metadata": {
        "colab": {
          "base_uri": "https://localhost:8080/"
        },
        "id": "DpBWRE2WEkup",
        "outputId": "6851b804-7b97-4347-8d56-c357b245cb6e"
      },
      "outputs": [
        {
          "name": "stdout",
          "output_type": "stream",
          "text": [
            "A    B    or   \n",
            "0    0    0    \n",
            "0    1    1    \n",
            "1    0    1    \n",
            "1    1    1    \n"
          ]
        }
      ],
      "source": [
        "\n",
        "inputs = [(0, 0), (0, 1), (1, 0), (1, 1)]\n",
        "\n",
        "\n",
        "print(f\"{'A':<5}{'B':<5}{'or':<5}\")\n",
        "\n",
        "\n",
        "for a, b in inputs:\n",
        "\n",
        "    or_gateresult = a | b\n",
        "\n",
        "\n",
        "    print(f\"{a:<5}{b:<5}{or_gateresult:<5}\")"
      ]
    },
    {
      "cell_type": "markdown",
      "metadata": {
        "id": "YTGWYRxiGIXX"
      },
      "source": [
        "*XOR Table*"
      ]
    },
    {
      "cell_type": "code",
      "execution_count": null,
      "metadata": {
        "colab": {
          "base_uri": "https://localhost:8080/"
        },
        "id": "yjRg2JEoGMJD",
        "outputId": "6f8c2fce-3ed4-4e16-8ec6-e7430754ed2e"
      },
      "outputs": [
        {
          "name": "stdout",
          "output_type": "stream",
          "text": [
            "A    B    XOR  \n",
            "0    0    0    \n",
            "0    1    1    \n",
            "1    0    1    \n",
            "1    1    0    \n"
          ]
        }
      ],
      "source": [
        "inputs = [(0, 0), (0, 1), (1, 0), (1, 1)]\n",
        "\n",
        "\n",
        "print(f\"{'A':<5}{'B':<5}{'XOR':<5}\")\n",
        "\n",
        "\n",
        "for a, b in inputs:\n",
        "\n",
        "    XOR_gateresult = a ^ b\n",
        "\n",
        "\n",
        "    print(f\"{a:<5}{b:<5}{XOR_gateresult:<5}\")"
      ]
    },
    {
      "cell_type": "markdown",
      "metadata": {
        "id": "NafolA9jibtd"
      },
      "source": [
        "**Data Types Practice : **"
      ]
    },
    {
      "cell_type": "markdown",
      "metadata": {
        "id": "hzTSylePkPvJ"
      },
      "source": [
        "**finding greater number**"
      ]
    },
    {
      "cell_type": "code",
      "execution_count": null,
      "metadata": {
        "colab": {
          "base_uri": "https://localhost:8080/"
        },
        "id": "jyvxFPfnikK9",
        "outputId": "f9b0d081-80af-47f9-c44d-964e889e76c1"
      },
      "outputs": [
        {
          "name": "stdout",
          "output_type": "stream",
          "text": [
            "enter first number:12\n",
            "enter second number:66\n",
            "enter third number:22\n",
            "b is greater\n"
          ]
        }
      ],
      "source": [
        "a=int(input(\"enter first number:\"))\n",
        "b=int(input(\"enter second number:\"))\n",
        "c=int(input(\"enter third number:\"))\n",
        "\n",
        "if a>b and a>c:\n",
        "  print(\"a is greater\")\n",
        "elif b>a and b>c:\n",
        "  print(\"b is greater\")\n",
        "else:\n",
        "  print(\"c is greater\")\n",
        "\n"
      ]
    },
    {
      "cell_type": "markdown",
      "metadata": {
        "id": "jkUCKzfSkKn7"
      },
      "source": [
        "**Reverse a string**"
      ]
    },
    {
      "cell_type": "code",
      "execution_count": null,
      "metadata": {
        "colab": {
          "base_uri": "https://localhost:8080/"
        },
        "id": "ccHF4qx0kUYM",
        "outputId": "2fb2e66c-6c5a-421b-aaad-a38ce8cc33da"
      },
      "outputs": [
        {
          "name": "stdout",
          "output_type": "stream",
          "text": [
            "enter a string:subhan\n",
            "nahbus\n"
          ]
        }
      ],
      "source": [
        "a=input(\"enter a string:\")\n",
        "print(a[::-1])"
      ]
    },
    {
      "cell_type": "markdown",
      "metadata": {
        "id": "RlIXuXjIm-ky"
      },
      "source": [
        "**check weather number is even or odd**"
      ]
    },
    {
      "cell_type": "code",
      "execution_count": null,
      "metadata": {
        "colab": {
          "base_uri": "https://localhost:8080/"
        },
        "id": "vQAHjp1NmhjR",
        "outputId": "2c1ced98-0762-422e-bd46-00d3103026f0"
      },
      "outputs": [
        {
          "name": "stdout",
          "output_type": "stream",
          "text": [
            "enter a number4\n",
            "even\n"
          ]
        }
      ],
      "source": [
        "num1=int(input(\"enter a number\"))\n",
        "if num1%2==0:\n",
        "  print(\"even\")\n",
        "else:\n",
        "  print(\"odd\")"
      ]
    },
    {
      "cell_type": "markdown",
      "metadata": {
        "id": "2wHO1F_csJQ5"
      },
      "source": [
        "**find vowels**"
      ]
    },
    {
      "cell_type": "code",
      "execution_count": null,
      "metadata": {
        "colab": {
          "base_uri": "https://localhost:8080/"
        },
        "id": "fJDRgkkCsQXi",
        "outputId": "5586bcf8-dc50-4017-dc07-4f1a165d52e8"
      },
      "outputs": [
        {
          "name": "stdout",
          "output_type": "stream",
          "text": [
            "enter a string:syebro\n",
            "2\n"
          ]
        }
      ],
      "source": [
        "num1=input(\"enter a string:\")\n",
        "vowels=\"aeiou\"\n",
        "count=0\n",
        "for i in num1:\n",
        "  if i in vowels:\n",
        "    count=count+1\n",
        "print(count)\n"
      ]
    }
  ],
  "metadata": {
    "colab": {
      "provenance": []
    },
    "kernelspec": {
      "display_name": "Python 3",
      "name": "python3"
    },
    "language_info": {
      "name": "python"
    }
  },
  "nbformat": 4,
  "nbformat_minor": 0
}