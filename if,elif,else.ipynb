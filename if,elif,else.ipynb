{
  "nbformat": 4,
  "nbformat_minor": 0,
  "metadata": {
    "colab": {
      "provenance": []
    },
    "kernelspec": {
      "name": "python3",
      "display_name": "Python 3"
    },
    "language_info": {
      "name": "python"
    }
  },
  "cells": [
    {
      "cell_type": "markdown",
      "source": [
        "**1.What is branching in programming languages?**"
      ],
      "metadata": {
        "id": "7OYCCMqzafcH"
      }
    },
    {
      "cell_type": "markdown",
      "source": [
        "*The ability of making decisions and execute a different set of statements based on whether one or more conditions are true*"
      ],
      "metadata": {
        "id": "hu2htXFKanOA"
      }
    },
    {
      "cell_type": "markdown",
      "source": [
        "**2.What is the purpose of the if statement in Python?**"
      ],
      "metadata": {
        "id": "Rb5vOMX0bETr"
      }
    },
    {
      "cell_type": "markdown",
      "source": [
        "*The purpose of 'if' statement in python is that if the condition exaluates to 'True' than the block of code in the if statement executed. If the condition is 'False' then the block is skipped.*"
      ],
      "metadata": {
        "id": "hHLBbytZj9qE"
      }
    },
    {
      "cell_type": "markdown",
      "source": [
        "**3.What is the syntax of the if statement? Give an example.**"
      ],
      "metadata": {
        "id": "SO1P6z0anaCP"
      }
    },
    {
      "cell_type": "markdown",
      "source": [
        "\n",
        "\n",
        "*   Syntax:\n",
        "\n"
      ],
      "metadata": {
        "id": "MX_7upZ7ofJg"
      }
    },
    {
      "cell_type": "markdown",
      "source": [
        "\n",
        "\n",
        "```\n",
        "if condition:\n",
        "    statement1\n",
        "    statement2\n",
        "statement(s)\n",
        "```\n",
        "\n"
      ],
      "metadata": {
        "id": "EWcFLAORnrNd"
      }
    },
    {
      "cell_type": "markdown",
      "source": [
        "\n",
        "\n",
        "*   Example:\n",
        "\n"
      ],
      "metadata": {
        "id": "en07vWAaolSD"
      }
    },
    {
      "cell_type": "code",
      "source": [
        "x=10\n",
        "if x>5:\n",
        "  print(\"x is greater than 5\")"
      ],
      "metadata": {
        "id": "e8Lv51hCoWSp"
      },
      "execution_count": null,
      "outputs": []
    },
    {
      "cell_type": "markdown",
      "source": [
        "**4.What is indentation? Why is it used?**"
      ],
      "metadata": {
        "id": "Fhy9VCGZooUW"
      }
    },
    {
      "cell_type": "markdown",
      "source": [
        "*Indentation in Python is the use of whitespace at the beginning of a line to define the structure of blocks of code. It is used to signify which statements belong to which block of code, ensuring the correct execution flow.*"
      ],
      "metadata": {
        "id": "EDRSWfzzoyLb"
      }
    },
    {
      "cell_type": "markdown",
      "source": [
        "**5.What is an indented block of statements?**"
      ],
      "metadata": {
        "id": "uDEBcALipjnv"
      }
    },
    {
      "cell_type": "markdown",
      "source": [
        "*An indented block of statements is a group of statements that are indented to the same level. In Python, indented block is executed together as part of a control structure like an if statement, loop, or function*"
      ],
      "metadata": {
        "id": "IMPU1wpZpuvm"
      }
    },
    {
      "cell_type": "markdown",
      "source": [
        "**6.How do you perform indentation in Python?**"
      ],
      "metadata": {
        "id": "HML5kzj9p5g9"
      }
    },
    {
      "cell_type": "markdown",
      "source": [
        "*In Python, indentation is typically performed using four spaces or a single tab character. Consistency in using spaces or tabs throughout the code is important to avoid errors.*"
      ],
      "metadata": {
        "id": "uNqxTzevqABO"
      }
    },
    {
      "cell_type": "markdown",
      "source": [
        "**7.What happens if some code is not indented correctly?**"
      ],
      "metadata": {
        "id": "8gNM_-Kfq3Uh"
      }
    },
    {
      "cell_type": "markdown",
      "source": [
        "*If code is not indented correctly in Python, it will result in an IndentationError or SyntaxError, and the program will not run. Proper indentation is essential for defining the logical structure of the code.*"
      ],
      "metadata": {
        "id": "E5DBl9c0rCad"
      }
    },
    {
      "cell_type": "markdown",
      "source": [
        "**8.What happens when the condition within the if statement evaluates to True? What happens if the condition evaluates for false?**"
      ],
      "metadata": {
        "id": "93kh9GyJrEmj"
      }
    },
    {
      "cell_type": "markdown",
      "source": [
        "*When the condition in 'if'statement evaluates is true the code of block in if statement is executed and If the condition evaluates for 'False' then the code of block is skipped.*"
      ],
      "metadata": {
        "id": "dt7JkRk4rLA_"
      }
    },
    {
      "cell_type": "markdown",
      "source": [
        "**9.How do you check if a number is even?**"
      ],
      "metadata": {
        "id": "rwAmBOyhrn6E"
      }
    },
    {
      "cell_type": "code",
      "source": [
        "x=input(\"Enter a number:\")\n",
        "x=int(x)\n",
        "if x%2==0:\n",
        "  print(\"x is even\")"
      ],
      "metadata": {
        "colab": {
          "base_uri": "https://localhost:8080/"
        },
        "id": "LRKL1pn7rwzf",
        "outputId": "4f4f8974-dacc-45e0-d792-e036b7b7f3fc"
      },
      "execution_count": 7,
      "outputs": [
        {
          "output_type": "stream",
          "name": "stdout",
          "text": [
            "Enter a number:50\n",
            "x is even\n"
          ]
        }
      ]
    },
    {
      "cell_type": "markdown",
      "source": [
        "**10.What is the purpose of the `else` statement in Python?**"
      ],
      "metadata": {
        "id": "ys4ldOazsFHF"
      }
    },
    {
      "cell_type": "markdown",
      "source": [
        "*The purpose of 'Else' satement in python is that if the condition in 'if' statement is false than the 'else' statement is executed.*"
      ],
      "metadata": {
        "id": "sfFLAma6sSHt"
      }
    },
    {
      "cell_type": "markdown",
      "source": [
        "**11.What is the syntax of the `else` statement? Give an example.**"
      ],
      "metadata": {
        "id": "J5EWhznGs2HE"
      }
    },
    {
      "cell_type": "markdown",
      "source": [
        "\n",
        "*   Syntax:\n",
        "\n",
        "\n",
        "\n",
        "```\n",
        "if condition:\n",
        "    statement1\n",
        "    statement2\n",
        "else:\n",
        "    statement3\n",
        "    statement4\n",
        "remaining statement(s)\n",
        "```\n",
        "\n",
        "\n",
        "\n"
      ],
      "metadata": {
        "id": "kplzWX_Is6G6"
      }
    },
    {
      "cell_type": "markdown",
      "source": [
        "\n",
        "*   Example:\n",
        "\n"
      ],
      "metadata": {
        "id": "sj-kN8GJtL9h"
      }
    },
    {
      "cell_type": "code",
      "source": [
        "x=input(\"Enter a number:\")\n",
        "x=int(x)\n",
        "if x%2==0:\n",
        "  print(\"x is even\")\n",
        "else:\n",
        "  print(\"x is odd\")"
      ],
      "metadata": {
        "colab": {
          "base_uri": "https://localhost:8080/"
        },
        "id": "vk8ZmrQstEDI",
        "outputId": "ab8cdb51-a19e-4b29-a123-73eaa536d258"
      },
      "execution_count": 8,
      "outputs": [
        {
          "output_type": "stream",
          "name": "stdout",
          "text": [
            "Enter a number:37\n",
            "x is odd\n"
          ]
        }
      ]
    },
    {
      "cell_type": "markdown",
      "source": [
        "**12.Write a program that prints different messages based on whether a number is positive or negative.**"
      ],
      "metadata": {
        "id": "V-Qwlp-HtSA8"
      }
    },
    {
      "cell_type": "code",
      "source": [
        "x=input(\"Enter a number:\")\n",
        "x=int(x)\n",
        "if x%2==0:\n",
        "  print(\"x is positive\")\n",
        "else:\n",
        "  print(\"x is negative\")"
      ],
      "metadata": {
        "colab": {
          "base_uri": "https://localhost:8080/"
        },
        "id": "idhBTJaMtaQC",
        "outputId": "ac014d43-3c0e-47dd-acf8-f6c24e6cef1b"
      },
      "execution_count": 9,
      "outputs": [
        {
          "output_type": "stream",
          "name": "stdout",
          "text": [
            "Enter a number:35\n",
            "x is negative\n"
          ]
        }
      ]
    },
    {
      "cell_type": "markdown",
      "source": [
        "**13.Can the else statement be used without an if statement?**"
      ],
      "metadata": {
        "id": "-yJDhz0ntiX4"
      }
    },
    {
      "cell_type": "markdown",
      "source": [
        "*NO, the else statement cannot be used without  if statement.*"
      ],
      "metadata": {
        "id": "GJqlkOOXtnil"
      }
    },
    {
      "cell_type": "markdown",
      "source": [
        "**14.What is the purpose of the elif statement in Python?**"
      ],
      "metadata": {
        "id": "szZbOYcItv46"
      }
    },
    {
      "cell_type": "markdown",
      "source": [
        "*The purpose of 'elif* statement is that,it can be used in conditional statements to check for multiple conditions. For example, if the first condition is false, it moves on to the next “elif” statement to check if that condition is true."
      ],
      "metadata": {
        "id": "a1e17eBFt0PX"
      }
    },
    {
      "cell_type": "markdown",
      "source": [
        "**15.What is the syntax of the elif statement? Give an example.**"
      ],
      "metadata": {
        "id": "q_-_dAJeuYn7"
      }
    },
    {
      "cell_type": "markdown",
      "source": [
        "\n",
        "\n",
        "*   Syntax:\n",
        "\n",
        "\n",
        "```\n",
        "if condition1:\n",
        "    # code block 1\n",
        "\n",
        "elif condition2:\n",
        "    # code block 2\n",
        "\n",
        "else:\n",
        "    # code block 3\n",
        "```\n",
        "\n",
        "\n",
        "\n"
      ],
      "metadata": {
        "id": "eCqEBK1Auc6F"
      }
    },
    {
      "cell_type": "markdown",
      "source": [
        "\n",
        "\n",
        "*  Example:\n",
        "\n"
      ],
      "metadata": {
        "id": "5ASrfSfGu5iB"
      }
    },
    {
      "cell_type": "code",
      "source": [
        "score=int(input(\"Enter your score:\"))\n",
        "if score>=90:\n",
        "  print(\"Grade A\")\n",
        "elif score>=80:\n",
        "  print(\"Grade B\")\n",
        "elif score>=70:\n",
        "  print(\"Grade C\")\n",
        "elif score>=60:\n",
        "  print(\"Grade D\")\n",
        "else:\n",
        "  print(\"Grade F\")\n"
      ],
      "metadata": {
        "colab": {
          "base_uri": "https://localhost:8080/"
        },
        "id": "5EpC9eAsu46W",
        "outputId": "a587b172-5842-4bf4-b344-0c7cba72ce29"
      },
      "execution_count": 4,
      "outputs": [
        {
          "output_type": "stream",
          "name": "stdout",
          "text": [
            "Enter your score:50\n",
            "Grade F\n"
          ]
        }
      ]
    },
    {
      "cell_type": "markdown",
      "source": [
        "**16.Write a program that prints different messages for different months of the year**"
      ],
      "metadata": {
        "id": "ywrouvI2vdji"
      }
    },
    {
      "cell_type": "code",
      "source": [
        "month = input(  \"Enter the month of the year: \")\n",
        "if month == \"January\":\n",
        "    print(\"It's January, Best of luck for the year!\")\n",
        "elif month == \"February\":\n",
        "    print(\"It's February, the shortest month.\")\n",
        "elif month == \"March\":\n",
        "    print(\"It's March, spring is coming!\")\n",
        "elif month == \"April\":\n",
        "    print(\"It's April, the month of showers.\")\n",
        "elif month == \"May\":\n",
        "    print(\"It's May, flowers bloom!\")\n",
        "elif month == \"June\":\n",
        "    print(\"It's June, summer begins!\")\n",
        "elif month == \"July\":\n",
        "    print(\"It's July, the middle of summer.\")\n",
        "elif month == \"August\":\n",
        "    print(\"It's August, summer continues.\")\n",
        "elif month == \"September\":\n",
        "    print(\"It's September, fall begins.\")\n",
        "elif month == \"October\":\n",
        "    print(\"It's October, the month of Halloween!\")\n",
        "elif month == \"November\":\n",
        "    print(\"It's November, Thanks giving month.\")\n",
        "elif month == \"December\":\n",
        "    print(\"It's December, the end of the year!\")\n",
        "else:\n",
        "    print(\"Unknown month.\")\n"
      ],
      "metadata": {
        "id": "yJFfg0Y9vkQM"
      },
      "execution_count": null,
      "outputs": []
    },
    {
      "cell_type": "markdown",
      "source": [
        "**17.Write a program that uses if, elif, and else statements together.**"
      ],
      "metadata": {
        "id": "ZAsbQbDLkpwL"
      }
    },
    {
      "cell_type": "code",
      "source": [
        "x=int(input(\"Enter a number:\"))\n",
        "y=int(input(\"Enter a number:\"))\n",
        "z=int(input(\"Enter a number:\"))\n",
        "if x>y and x>z:\n",
        "  print(\"x is the greatest number\")\n",
        "elif y>x and y>z:\n",
        "  print(\"y is the greatest number\")\n",
        "else:\n",
        "  print(\"z is the greatest number\")"
      ],
      "metadata": {
        "id": "fROKwtMkku0Z"
      },
      "execution_count": null,
      "outputs": []
    },
    {
      "cell_type": "markdown",
      "source": [
        "**18.Can the elif statement be used without an if statement?**"
      ],
      "metadata": {
        "id": "-34tWMC7lSY7"
      }
    },
    {
      "cell_type": "markdown",
      "source": [
        "*NO, 'elif' statement cannot be used without an 'if' statement.*"
      ],
      "metadata": {
        "id": "w18cvhZrlW3l"
      }
    },
    {
      "cell_type": "markdown",
      "source": [
        "**19.Can the elif statement be used without an else statement?**"
      ],
      "metadata": {
        "id": "KV56z44VmZIL"
      }
    },
    {
      "cell_type": "markdown",
      "source": [
        "*Yes, the 'elif' statement can be used without an 'else' statement*"
      ],
      "metadata": {
        "id": "2IqpU7oZmd5y"
      }
    },
    {
      "cell_type": "markdown",
      "source": [
        "**20.What is the difference between a chain of if, elif, elif… statements and a chain of if, if, if… statements? Give an example.**"
      ],
      "metadata": {
        "id": "UiUGqw_Emqu0"
      }
    },
    {
      "cell_type": "markdown",
      "source": [
        "\n",
        "*   Chain of if,elif,elif:\n",
        " *The chain of if,elif,elif checks each condition in the sequence and then stop evaluates when they find a 'True' condition.*\n",
        "\n"
      ],
      "metadata": {
        "id": "vx_LmilQm60J"
      }
    },
    {
      "cell_type": "code",
      "source": [
        "score=int(input(\"Enter your score:\"))\n",
        "if score>=90:\n",
        "  print(\"Grade A\")\n",
        "elif score>=80:\n",
        "  print(\"Grade B\")\n",
        "elif score>=70:\n",
        "  print(\"Grade C\")\n",
        "elif score>=60:\n",
        "  print(\"Grade D\")\n",
        "else:\n",
        "  print(\"Grade F\")\n"
      ],
      "metadata": {
        "id": "cumA5UF-mwTR"
      },
      "execution_count": null,
      "outputs": []
    },
    {
      "cell_type": "markdown",
      "source": [
        "*   Chain of if,if,if:\n",
        " *The chain of if,if,if statements checks each statement independently regardless to the previous condition*\n",
        "\n"
      ],
      "metadata": {
        "id": "KeCMbBz3nyKg"
      }
    },
    {
      "cell_type": "code",
      "source": [
        "score=int(input(\"Enter your score:\"))\n",
        "if score>=90:\n",
        "  print(\"Grade A\")\n",
        "if score>=80:\n",
        "  print(\"Grade B\")\n",
        "if score>=70:\n",
        "  print(\"Grade C\")\n",
        "if score>=60:\n",
        "  print(\"Grade D\")\n",
        "if score>=40:\n",
        "  print(\"Grade F\")"
      ],
      "metadata": {
        "id": "M06IvjjSoS9D"
      },
      "execution_count": null,
      "outputs": []
    },
    {
      "cell_type": "markdown",
      "source": [
        "**21.Can non-boolean conditions be used with if statements? Give some examples.**"
      ],
      "metadata": {
        "id": "jh73LaaJotVt"
      }
    },
    {
      "cell_type": "markdown",
      "source": [
        "*Yes, non-boolean condiitons can be used with is statements.*"
      ],
      "metadata": {
        "id": "QtsBQj1Wo0Xi"
      }
    },
    {
      "cell_type": "markdown",
      "source": [
        "\n",
        "\n",
        "*  Examples:\n",
        "\n"
      ],
      "metadata": {
        "id": "pNB-4qGCpDsX"
      }
    },
    {
      "cell_type": "code",
      "source": [
        "lst=[]\n",
        "if lst:\n",
        "  print(\"List is not empty\")\n",
        "else:\n",
        "  print(\"List is empty\")"
      ],
      "metadata": {
        "colab": {
          "base_uri": "https://localhost:8080/"
        },
        "id": "HcXXjeS9pJyw",
        "outputId": "b4ca6f38-ad86-4c00-bceb-ceeedd55bb52"
      },
      "execution_count": 10,
      "outputs": [
        {
          "output_type": "stream",
          "name": "stdout",
          "text": [
            "List is empty\n"
          ]
        }
      ]
    },
    {
      "cell_type": "code",
      "source": [
        "str=\"Programing for ML\"\n",
        "if str:\n",
        "  print(\"String is not empty\")\n",
        "else:\n",
        "  print(\"String is empty\")"
      ],
      "metadata": {
        "colab": {
          "base_uri": "https://localhost:8080/"
        },
        "id": "RFBM1FQ6pbp4",
        "outputId": "47d887e0-0f52-4a17-a1ff-3990e75dca32"
      },
      "execution_count": 11,
      "outputs": [
        {
          "output_type": "stream",
          "name": "stdout",
          "text": [
            "String is not empty\n"
          ]
        }
      ]
    },
    {
      "cell_type": "markdown",
      "source": [
        "**22.What are nested conditional statements? How are they useful?**"
      ],
      "metadata": {
        "id": "K8EL4lm4pjxk"
      }
    },
    {
      "cell_type": "markdown",
      "source": [
        "*The nested conditional statements are if, elif, and else statements inside another if, elif, or else statement. They are useful for checking multiple levels of conditions and making more complex decisions.*"
      ],
      "metadata": {
        "id": "IHTCHSjYpnva"
      }
    },
    {
      "cell_type": "markdown",
      "source": [
        "**23.Give an example of nested conditional statements.**"
      ],
      "metadata": {
        "id": "WdzamhsUp3qU"
      }
    },
    {
      "cell_type": "code",
      "source": [
        "number=8\n",
        "if number%2==0:\n",
        "  if number%3==0:\n",
        "    print(\"number is divisible by 2 and 3\")\n",
        "  else:\n",
        "    print(\"number is divisible by 2 but not by 3\")\n",
        "else:\n",
        "  if number%4==0:\n",
        "    print(\"number is divisible by 4 and also by 2\")\n",
        "  else:\n",
        "    print(\"number is not divisible by 5 and 3\")"
      ],
      "metadata": {
        "id": "WoGhtNi7qVto"
      },
      "execution_count": null,
      "outputs": []
    },
    {
      "cell_type": "markdown",
      "source": [
        "**24.Why is it advisable to avoid nested conditional statements?**"
      ],
      "metadata": {
        "id": "Zv37Gq60rK68"
      }
    },
    {
      "cell_type": "markdown",
      "source": [
        "*It is advisable to avoid nested conditional statements because they can make the code harder to read, understand, and maintain.*"
      ],
      "metadata": {
        "id": "pH-iTiXNrQ7e"
      }
    },
    {
      "cell_type": "markdown",
      "source": [
        "**25.What is the shorthand if conditional expression?**"
      ],
      "metadata": {
        "id": "fHCkTdbQrbCv"
      }
    },
    {
      "cell_type": "markdown",
      "source": [
        "*The shorthand if conditional expression and also known as the conditional operator also known as the ternary operator, allows for a concise way to write simple if-else statements.*"
      ],
      "metadata": {
        "id": "S_aVjVScrfNf"
      }
    },
    {
      "cell_type": "markdown",
      "source": [
        "**26.What is the syntax of the shorthand if conditional expression? Give an example.**"
      ],
      "metadata": {
        "id": "yXhYZqWJrrgV"
      }
    },
    {
      "cell_type": "code",
      "source": [
        "number=int(input(\"Enter a number:\"))\n",
        "result = \"Positive\" if number > 0 else \"Negative\"\n",
        "print(result)"
      ],
      "metadata": {
        "id": "LesZSq-VsFaT"
      },
      "execution_count": null,
      "outputs": []
    },
    {
      "cell_type": "markdown",
      "source": [
        "**27.What is the difference between the shorthand if expression and the regular if statement?**"
      ],
      "metadata": {
        "id": "VIpEYG9AsfgY"
      }
    },
    {
      "cell_type": "markdown",
      "source": [
        "*The shorthand 'if' expression is a single-line expression used for simple conditions, while the regular 'if' statement can contain multiple lines and more complex logic.*"
      ],
      "metadata": {
        "id": "bDYiGde9skg2"
      }
    },
    {
      "cell_type": "markdown",
      "source": [
        "**28.What is a statement in Python?**"
      ],
      "metadata": {
        "id": "5zLmuVuCstG7"
      }
    },
    {
      "cell_type": "markdown",
      "source": [
        "*A statement in Python is a complete unit of execution that performs an action. An statements include assignments, control flow statements (like if, for, and while), function definitions, and import statements.*"
      ],
      "metadata": {
        "id": "huRZfR4TsxpY"
      }
    },
    {
      "cell_type": "code",
      "source": [
        "x = 10  # Assignment statement\n",
        "print(x)  # Function call statement\n",
        "if x > 5:  # Control flow statement\n",
        "    print(\"x is greater than 5\")"
      ],
      "metadata": {
        "id": "ibZaATMMuEPC"
      },
      "execution_count": null,
      "outputs": []
    },
    {
      "cell_type": "markdown",
      "source": [
        "**29.What is an expression in Python?**"
      ],
      "metadata": {
        "id": "l9pUKLcptM_R"
      }
    },
    {
      "cell_type": "markdown",
      "source": [
        "*An expression in Python is a combination of values, variables, operators, and function calls that can be evaluated to produce a value. Expressions are used within statements.*"
      ],
      "metadata": {
        "id": "Ds85gc1utP-S"
      }
    },
    {
      "cell_type": "code",
      "source": [
        "y = x + 5  # x + 5 is an expression\n",
        "z = y * 2  # y * 2 is an expression\n",
        "result = max(20,30)  # max(20, 30) is an expression"
      ],
      "metadata": {
        "id": "j5bLD1zpueVs"
      },
      "execution_count": 20,
      "outputs": []
    },
    {
      "cell_type": "markdown",
      "source": [
        "**30.What is the difference between statements and expressions?**"
      ],
      "metadata": {
        "id": "75kNmll8tQic"
      }
    },
    {
      "cell_type": "markdown",
      "source": [
        "\n",
        "\n",
        "*   Statement:\n",
        "Statements perform an action and do not necessarily return a value.\n",
        "*   Expression:\n",
        "Expressions evaluate to a value and can be part of statements.\n",
        "\n"
      ],
      "metadata": {
        "id": "M7ZhZ3j_u_5w"
      }
    },
    {
      "cell_type": "markdown",
      "source": [
        "**31.Is every statement an expression? Give an example or counterexample.**"
      ],
      "metadata": {
        "id": "pswsGO0ZtU_v"
      }
    },
    {
      "cell_type": "markdown",
      "source": [
        "*No,not the every statement is an expression.*\n",
        "\n",
        "\n",
        "\n",
        "```\n",
        "if x>5:  #This is a statement not a expression\n",
        " print(\"x is greater\")\n",
        "```\n",
        "\n"
      ],
      "metadata": {
        "id": "Dd2oB7zntbQ7"
      }
    },
    {
      "cell_type": "markdown",
      "source": [
        "**32.Is every expression a statement? Give an example or counterexample.**"
      ],
      "metadata": {
        "id": "LYsekWzxtbs7"
      }
    },
    {
      "cell_type": "markdown",
      "source": [
        "*Yes, every expression can be considered a statement when it is used as a complete line of code.*\n",
        "\n",
        "\n",
        "\n",
        "\n",
        "\n",
        "```\n",
        "y+10 # This is both expression and the statement.\n",
        "```\n",
        "\n"
      ],
      "metadata": {
        "id": "aRuD4fgttg6j"
      }
    },
    {
      "cell_type": "markdown",
      "source": [
        "**33.What is the purpose of the pass statement in if blocks?**"
      ],
      "metadata": {
        "id": "qSN68hP-thdO"
      }
    },
    {
      "cell_type": "markdown",
      "source": [
        "*The pass statement is used as a placeholder in Python. It is used in if blocks or other control structures where a statement is syntactically required but no action is needed*"
      ],
      "metadata": {
        "id": "W8_ER_lmtlMZ"
      }
    },
    {
      "cell_type": "code",
      "source": [
        "x=10\n",
        "if x>5:\n",
        "  pass\n",
        "else:\n",
        "  print(\"x is less than 5\")"
      ],
      "metadata": {
        "id": "8XqIfroswNrE"
      },
      "execution_count": 22,
      "outputs": []
    },
    {
      "cell_type": "markdown",
      "source": [
        "**34.Python does not have a switch or case statement. To get around this fact, one can use dictionary mapping. Try to implement code for this task.**"
      ],
      "metadata": {
        "id": "g-U0MdNGtl3e"
      }
    },
    {
      "cell_type": "code",
      "source": [
        "def case_one():\n",
        "    return \"Case 1\"\n",
        "\n",
        "def case_two():\n",
        "    return \"Case 2\"\n",
        "\n",
        "def case_default():\n",
        "    return \"Default case\"\n",
        "\n",
        "switch = {1: case_one, 2: case_two}\n",
        "def switch_case(value):\n",
        "    return switch.get(value, case_default)()\n",
        "\n",
        "print(switch_case(1))\n",
        "print(switch_case(2))\n",
        "print(switch_case(3))"
      ],
      "metadata": {
        "colab": {
          "base_uri": "https://localhost:8080/"
        },
        "id": "SKRg0KMDwlIP",
        "outputId": "3e6d5214-c4c5-4c06-b862-c9715afbf6ac"
      },
      "execution_count": 23,
      "outputs": [
        {
          "output_type": "stream",
          "name": "stdout",
          "text": [
            "Case 1\n",
            "Case 2\n",
            "Default case\n"
          ]
        }
      ]
    }
  ]
}