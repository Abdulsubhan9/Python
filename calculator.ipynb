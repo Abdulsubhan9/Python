{
  "nbformat": 4,
  "nbformat_minor": 0,
  "metadata": {
    "colab": {
      "provenance": []
    },
    "kernelspec": {
      "name": "python3",
      "display_name": "Python 3"
    },
    "language_info": {
      "name": "python"
    }
  },
  "cells": [
    {
      "cell_type": "markdown",
      "source": [
        " *Basic Calculator Assignment*"
      ],
      "metadata": {
        "id": "MHyPPK0RcU5Q"
      }
    },
    {
      "cell_type": "code",
      "execution_count": null,
      "metadata": {
        "colab": {
          "base_uri": "https://localhost:8080/"
        },
        "id": "Jl0_NZLkcPG7",
        "outputId": "f04f94f9-5c16-485d-a257-2600983e99d0"
      },
      "outputs": [
        {
          "output_type": "stream",
          "name": "stdout",
          "text": [
            "100\n",
            "10\n",
            "2475\n",
            "1.2222222222222223\n",
            "1\n",
            "10\n",
            "2071672147539602864949951787928109734464218816214042817591689527034759521484375\n"
          ]
        }
      ],
      "source": [
        "a=55\n",
        "b=45\n",
        "print(a+b)\n",
        "print(a-b)\n",
        "print(a*b)\n",
        "print(a/b)\n",
        "print(a//b)\n",
        "print(a%b)\n",
        "print(a**b)"
      ]
    },
    {
      "cell_type": "markdown",
      "source": [
        "****"
      ],
      "metadata": {
        "id": "OUGDzmcwdHeU"
      }
    },
    {
      "cell_type": "markdown",
      "source": [
        "Basic Calculator Assignment using input."
      ],
      "metadata": {
        "id": "GLxMAOcPdPxJ"
      }
    },
    {
      "cell_type": "code",
      "source": [
        "num1=float(input(\"enter first number:\"))\n",
        "num2=float(input(\"enter second number:\"))\n",
        "\n",
        "print(\"press 1 for addition\" )\n",
        "print(\"press 2 for subtraction\")\n",
        "print(\"press 3 for multiplication\")\n",
        "print(\"press 4 for division\")\n",
        "print(\"print 5 for modulus\")\n",
        "\n",
        "choice=int(input(\"enter the choice from 1-5:\"))\n",
        "\n",
        "if choice==1:\n",
        "  print(num1+num2)\n",
        "elif choice==2:\n",
        "  print(num1-num2)\n",
        "elif choice==3:\n",
        "  print(num1*num2)\n",
        "elif choice==4:\n",
        "  print(choice/num2)\n",
        "elif choice ==5:\n",
        "  print(num1%num2)\n",
        "else:\n",
        "  print(\"invalid input\")"
      ],
      "metadata": {
        "colab": {
          "base_uri": "https://localhost:8080/"
        },
        "id": "riaw8uQcdVH8",
        "outputId": "31c99224-3de3-4b7d-bc38-06d26f68a238"
      },
      "execution_count": null,
      "outputs": [
        {
          "output_type": "stream",
          "name": "stdout",
          "text": [
            "enter first number:44\n",
            "enter second number:2\n",
            "press 1 for addition\n",
            "press 2 for subtraction\n",
            "press 3 for multiplication\n",
            "press 4 for division\n",
            "print 5 for modulus\n",
            "enter the choice from 1-5:3\n",
            "88.0\n"
          ]
        }
      ]
    }
  ]
}